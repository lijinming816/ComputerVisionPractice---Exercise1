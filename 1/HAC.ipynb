{
 "cells": [
  {
   "cell_type": "code",
   "execution_count": 1,
   "id": "4fee26d7",
   "metadata": {},
   "outputs": [],
   "source": [
    "def euler_distance(point1, point2):\n",
    "    distance = 0.0\n",
    "    for a, b in zip(point1, point2):\n",
    "        distance += math.pow(a - b, 2)\n",
    "    return math.sqrt(distance)\n"
   ]
  },
  {
   "cell_type": "code",
   "execution_count": 2,
   "id": "0c116b17",
   "metadata": {},
   "outputs": [],
   "source": [
    "import math\n",
    "import numpy as np\n",
    "# 定义聚类树的节点\n",
    "class ClusterNode:\n",
    "    def __init__(self, vec, left=None, right=None, distance=-1, id=None, count=1):\n",
    "        \"\"\"\n",
    "        vec: 保存两个数据merge后新的中心\n",
    "        left: 左节点\n",
    "        right: 右节点\n",
    "        distance: 两个节点的距离\n",
    "        id: 保存哪个节点是计算过的\n",
    "        count: 这个节点的叶子节点个数\n",
    "        \"\"\"\n",
    "        self.vec = vec\n",
    "        self.left = left\n",
    "        self.right = right\n",
    "        self.distance = distance\n",
    "        self.id = id\n",
    "        self.count = count"
   ]
  },
  {
   "cell_type": "code",
   "execution_count": 3,
   "id": "e7d73ae5",
   "metadata": {},
   "outputs": [],
   "source": [
    "# 层次聚类的类\n",
    "# 不同于文中所说的先构建树，再进行切分，而是直接根据所需类别数目，聚到满足条件的节点数量即停止\n",
    "# 和k-means一样，也需要指定类别数量\n",
    "class Hierarchical:\n",
    "    def __init__(self, k=1):\n",
    "        assert k > 0\n",
    "        self.k = k\n",
    "        self.labels = None\n",
    "\n",
    "    def fit(self, x):\n",
    "        # 初始化节点各位等于数据的个数\n",
    "        nodes = [ClusterNode(vec=v, id=i) for i, v in enumerate(x)]\n",
    "        distance = {}\n",
    "        point_num, feature_num = np.shape(x)\n",
    "        self.labels = [-1] * point_num\n",
    "        currentclustid = -1\n",
    "        while len(nodes) > self.k:\n",
    "#             print(len(nodes))\n",
    "            min_dist = np.inf\n",
    "            # 当前节点的个数\n",
    "            nodes_len = len(nodes)\n",
    "            # 最相似的两个类别\n",
    "            closest_part = None\n",
    "            # 当前节点中两两距离计算，找出最近的两个节点\n",
    "            for i in range(nodes_len - 1):\n",
    "                for j in range(i + 1, nodes_len):\n",
    "                    # 避免重复计算\n",
    "                    d_key = (nodes[i].id, nodes[j].id)\n",
    "                    if d_key not in distance:\n",
    "                        distance[d_key] = euler_distance(nodes[i].vec, nodes[j].vec)\n",
    "                    d = distance[d_key]\n",
    "                    if d < min_dist:\n",
    "                        min_dist = d\n",
    "                        closest_part = (i, j)\n",
    "            part1, part2 = closest_part\n",
    "            node1, node2 = nodes[part1], nodes[part2]\n",
    "            # 将两个节点进行合并,即两个节点所包含的所有数据的平均值\n",
    "            new_vec = [(node1.vec[i] * node1.count + node2.vec[i] * node2.count) / (node1.count + node2.count)\n",
    "                       for i in range(feature_num)]\n",
    "            new_node = ClusterNode(vec=new_vec, left=node1, right=node2, distance=min_dist, id=currentclustid,\n",
    "                                   count=node1.count + node2.count)\n",
    "            currentclustid -= 1\n",
    "            # 删掉这最近的两个节点\n",
    "            del nodes[part2], nodes[part1]\n",
    "            # 把新的节点添加进去\n",
    "            nodes.append(new_node)\n",
    "        # 树建立完成，这里要注意，在示例中是最终凝聚为1个节点，而这里到达所要指定的类别数目即停止，一个node属于一个类别\n",
    "        self.nodes = nodes\n",
    "        # 给每个node以及node包含的数据打上标签\n",
    "        self.calc_label()\n",
    "\n",
    "    def calc_label(self):\n",
    "        # 调取聚类结果\n",
    "        for i, node in enumerate(self.nodes):\n",
    "            self.leaf_traversal(node, i)\n",
    "\n",
    "    def leaf_traversal(self, node: ClusterNode, label):\n",
    "        # 递归遍历叶子结点\n",
    "        if node.left is None and node.right is None:\n",
    "            self.labels[node.id] = label\n",
    "        if node.left:\n",
    "            self.leaf_traversal(node.left, label)\n",
    "        if node.right:\n",
    "            self.leaf_traversal(node.right, label)"
   ]
  },
  {
   "cell_type": "code",
   "execution_count": 4,
   "id": "c853c1dd",
   "metadata": {},
   "outputs": [],
   "source": [
    "def evaluate(y_pre, y_true):\n",
    "    TP = 0\n",
    "    TN = 0\n",
    "    FP = 0\n",
    "    FN = 0\n",
    "    overlap = 0\n",
    "    union = 0\n",
    "    for i, value in enumerate(y_true):\n",
    "        if y_pre[i] == value and y_pre[i] == 1:\n",
    "            TP += 1\n",
    "            overlap += 1\n",
    "            union += 1\n",
    "        elif y_pre[i] == value and y_pre[i] == 0:\n",
    "            TN += 1\n",
    "        elif y_pre[i] != value and y_pre[i] == 0:\n",
    "            FN += 1\n",
    "            union += 1\n",
    "        else:\n",
    "            FP += 1\n",
    "            union += 1\n",
    "    # 像素准确性\n",
    "    pixel_accuracy = (TP+TN)/(TP+TN+FP+FN)\n",
    "\n",
    "    # IoU\n",
    "    IoU = overlap / union\n",
    "\n",
    "    # F1_score\n",
    "    P = TP / (TP + FP)\n",
    "    R = TP / (TP + FN)\n",
    "    F1_score = 2 * P * R / (P+R)\n",
    "    return pixel_accuracy, IoU, F1_score"
   ]
  },
  {
   "cell_type": "code",
   "execution_count": 5,
   "id": "551d41d9",
   "metadata": {},
   "outputs": [
    {
     "name": "stderr",
     "output_type": "stream",
     "text": [
      "D:\\XUEXI\\anaconda3\\envs\\new_pytorch\\lib\\site-packages\\ipykernel_launcher.py:4: RuntimeWarning: overflow encountered in ubyte_scalars\n",
      "  after removing the cwd from sys.path.\n"
     ]
    },
    {
     "name": "stdout",
     "output_type": "stream",
     "text": [
      "pixel_accuracy, IoU, F1_score(HAC):0.8924242424242425,0.7053941908713693,0.8272506082725061\n"
     ]
    }
   ],
   "source": [
    "import cv2\n",
    "x1 = cv2.imread('cat11.png')\n",
    "y1 = cv2.imread('cat11-true.png')\n",
    "y1 = y1.reshape(-1, 3)\n",
    "y_true = y1[:, 0]\n",
    "y_true = y_true / 255\n",
    "H = x1.shape[0]\n",
    "W = x1.shape[1]\n",
    "x1 = x1.reshape(-1, 3)\n",
    "my = Hierarchical(4)\n",
    "my.fit(x1)\n",
    "data = x1.copy()\n",
    "data = data.reshape(-1, 3)\n",
    "back_label = my.labels[0]\n",
    "y_pre = my.labels.copy()  # 背景0，物体1\n",
    "for i, label in enumerate(my.labels):\n",
    "    if label == back_label:\n",
    "        data[i] = [0, 0, 0]\n",
    "        y_pre[i] = 0\n",
    "    else:\n",
    "        data[i] = [255, 255, 255]\n",
    "        y_pre[i] = 1\n",
    "data = data.reshape(H, W, 3)\n",
    "cv2.imwrite('cat1_result_HAC.png', data)\n",
    "pixel_accuracy, IoU, F1_score = evaluate(y_pre, y_true)\n",
    "print('pixel_accuracy, IoU, F1_score(HAC):' + str(pixel_accuracy) + ',' + str(IoU) + ',' + str(F1_score))"
   ]
  },
  {
   "cell_type": "code",
   "execution_count": 6,
   "id": "85fd5c4e",
   "metadata": {},
   "outputs": [
    {
     "data": {
      "image/png": "[encoded data removed]",
      "text/plain": [
       "<Figure size 640x480 with 1 Axes>"
      ]
     },
     "metadata": {},
     "output_type": "display_data"
    }
   ],
   "source": [
    "import matplotlib.pyplot as plt\n",
    "plt.imshow(data)\n",
    "plt.show()"
   ]
  },
  {
   "cell_type": "code",
   "execution_count": null,
   "id": "64082fac",
   "metadata": {},
   "outputs": [],
   "source": []
  }
 ],
 "metadata": {
  "kernelspec": {
   "display_name": "Python 3 (ipykernel)",
   "language": "python",
   "name": "python3"
  },
  "language_info": {
   "codemirror_mode": {
    "name": "ipython",
    "version": 3
   },
   "file_extension": ".py",
   "mimetype": "text/x-python",
   "name": "python",
   "nbconvert_exporter": "python",
   "pygments_lexer": "ipython3",
   "version": "3.7.13"
  }
 },
 "nbformat": 4,
 "nbformat_minor": 5
}
